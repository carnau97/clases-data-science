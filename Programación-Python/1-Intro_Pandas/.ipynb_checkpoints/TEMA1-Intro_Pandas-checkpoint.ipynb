{
 "cells": [
  {
   "cell_type": "markdown",
   "metadata": {},
   "source": [
    "# Tema 1: Introducción a *pandas*"
   ]
  },
  {
   "cell_type": "markdown",
   "metadata": {},
   "source": [
    "## 1. Cargar un dataset"
   ]
  },
  {
   "cell_type": "markdown",
   "metadata": {},
   "source": [
    "Cuando queremos importar un dataset en Python para realizar transformaciones sobre él, siempre lo cargamos en un dataframe de Pandas. Dependiendo del formato en el que esté el fichero, utilizaremos una función u otra. Las más comunes son:\n",
    "\n",
    "```\n",
    "x = pd.read_csv('path/filename.csv')\n",
    "x = pd.read_excel('path/filename.xlsx')\n",
    "```\n",
    "\n",
    "\n",
    "Si el fichero está en el mismo directorio que el notebook, no es necesario especificar el path completo (solo el nombre del fichero). \n",
    "\n",
    "Estas funciones tienen unos parámetros adicionales que no es obligatorio especificar:\n",
    "\n",
    "- header: por defecto utiliza la primera fila del fichero como nombres de columnas (*header=0*). Si no queremos utilizar ninguna fila como cabecera, ponemos *header=None* y especificamos a mano el nombre de las columnas pasando una lista al parámetro *name*.\n",
    "- sep: por defecto utiliza ','. Si el archivo no está separado por comas, se puede especificar el separador (ejemplo: *sep=';'*).\n",
    "\n",
    "Recuerda que antes deberás importar la librería pandas:\n",
    "\n",
    "```import pandas as pd```"
   ]
  },
  {
   "cell_type": "code",
   "execution_count": null,
   "metadata": {},
   "outputs": [],
   "source": [
    "#EJERCICIO: Importa el fichero titanic.csv, guardándolo en un dataframe llamado 'datos'\n",
    "\n"
   ]
  },
  {
   "cell_type": "markdown",
   "metadata": {},
   "source": [
    "## 2. Exploración básica del dataset"
   ]
  },
  {
   "cell_type": "markdown",
   "metadata": {},
   "source": [
    "### 2.1. Funciones para obtener un resumen rápido de los datos"
   ]
  },
  {
   "cell_type": "markdown",
   "metadata": {},
   "source": [
    "Cuando importamos un dataset en Python, para ver si se ha cargado correctamente y echar un primer vistazo a su contenido podemos utilizar la función *head()*:"
   ]
  },
  {
   "cell_type": "code",
   "execution_count": null,
   "metadata": {},
   "outputs": [],
   "source": [
    "datos.head() #mostramos las primeras filas"
   ]
  },
  {
   "cell_type": "markdown",
   "metadata": {},
   "source": [
    "Otra función para hacerse una idea de la estructura de nuestros datos es *info()*. Esta función te dice el número de filas y una pequeña descripción de cada columna (tipo de dato y si contiene nulos)"
   ]
  },
  {
   "cell_type": "code",
   "execution_count": null,
   "metadata": {},
   "outputs": [],
   "source": [
    "datos.info()"
   ]
  },
  {
   "cell_type": "markdown",
   "metadata": {},
   "source": [
    "**NOTAS**: \n",
    "\n",
    "- El tipo *object* se corresponde con el tipo *str* de las estructuras de datos simples. \n",
    "- En Python se consideran nulos aquellos registros que están vacíos en el fichero (aparecen como *NaN* o *None*)"
   ]
  },
  {
   "cell_type": "markdown",
   "metadata": {},
   "source": [
    "Si queremos ver solamente el tipo de datos de cada columna, utilizamos *dtypes*:"
   ]
  },
  {
   "cell_type": "code",
   "execution_count": null,
   "metadata": {},
   "outputs": [],
   "source": [
    "datos.dtypes"
   ]
  },
  {
   "cell_type": "markdown",
   "metadata": {},
   "source": [
    "Si queremos ver solamente el número de valores nulos por columna, utilizamos *isna().sum()*:"
   ]
  },
  {
   "cell_type": "code",
   "execution_count": null,
   "metadata": {},
   "outputs": [],
   "source": [
    "datos.isna().sum()"
   ]
  },
  {
   "cell_type": "markdown",
   "metadata": {},
   "source": [
    "Si solamente queremos ver qué columnas contienen nulos, utilizamos *isna().any()*:"
   ]
  },
  {
   "cell_type": "code",
   "execution_count": null,
   "metadata": {},
   "outputs": [],
   "source": [
    "datos.isna().any()"
   ]
  },
  {
   "cell_type": "markdown",
   "metadata": {},
   "source": [
    "La función *describe()* te muestra los estadísticos básicos de las columnas numéricas:"
   ]
  },
  {
   "cell_type": "code",
   "execution_count": null,
   "metadata": {},
   "outputs": [],
   "source": [
    "datos.describe()"
   ]
  },
  {
   "cell_type": "markdown",
   "metadata": {},
   "source": [
    "### 2.2. Filas y columnas del dataset"
   ]
  },
  {
   "cell_type": "markdown",
   "metadata": {},
   "source": [
    "- **Obtener nombres de las columnas**"
   ]
  },
  {
   "cell_type": "markdown",
   "metadata": {},
   "source": [
    "Si queremos obtener el nombre de las columnas del dataset, utilizamos el método *columns*:"
   ]
  },
  {
   "cell_type": "code",
   "execution_count": null,
   "metadata": {},
   "outputs": [],
   "source": [
    "datos.columns"
   ]
  },
  {
   "cell_type": "markdown",
   "metadata": {},
   "source": [
    "Para guardar los nombres de las columnas en una lista de Python, podemos transformar el objeto anterior a lista:"
   ]
  },
  {
   "cell_type": "code",
   "execution_count": null,
   "metadata": {},
   "outputs": [],
   "source": [
    "nombres_columnas=list(datos.columns)"
   ]
  },
  {
   "cell_type": "code",
   "execution_count": null,
   "metadata": {},
   "outputs": [],
   "source": [
    "nombres_columnas"
   ]
  },
  {
   "cell_type": "markdown",
   "metadata": {},
   "source": [
    "- **Número de filas y columnas**"
   ]
  },
  {
   "cell_type": "markdown",
   "metadata": {},
   "source": [
    "El método *shape* devuelve una tupla con las dimensiones del dataset (filas, columnas):"
   ]
  },
  {
   "cell_type": "code",
   "execution_count": null,
   "metadata": {},
   "outputs": [],
   "source": [
    "datos.shape"
   ]
  },
  {
   "cell_type": "markdown",
   "metadata": {},
   "source": [
    "Si queremos quedarnos solo con el número de filas, accedemos al primer elemento de la tupla anterior, recordando que las posiciones empiezan en 0:"
   ]
  },
  {
   "cell_type": "code",
   "execution_count": null,
   "metadata": {},
   "outputs": [],
   "source": [
    "datos.shape[0]"
   ]
  },
  {
   "cell_type": "markdown",
   "metadata": {},
   "source": [
    "También podemos obtener el número de filas con la función len:"
   ]
  },
  {
   "cell_type": "code",
   "execution_count": null,
   "metadata": {},
   "outputs": [],
   "source": [
    "len(datos)"
   ]
  },
  {
   "cell_type": "markdown",
   "metadata": {},
   "source": [
    "Si queremos quedarnos solo con el número de columnas, accedemos al segundo elemento de la tupla:"
   ]
  },
  {
   "cell_type": "code",
   "execution_count": null,
   "metadata": {},
   "outputs": [],
   "source": [
    "datos.shape[1]"
   ]
  },
  {
   "cell_type": "markdown",
   "metadata": {},
   "source": [
    "Otra forma de ver el número de columnas de un dataset en Python es calculando la longitud de la lista *datos.columns*:"
   ]
  },
  {
   "cell_type": "code",
   "execution_count": null,
   "metadata": {},
   "outputs": [],
   "source": [
    "len(datos.columns)"
   ]
  },
  {
   "cell_type": "markdown",
   "metadata": {},
   "source": [
    "- **Selección de filas/columnas del dataset**"
   ]
  },
  {
   "cell_type": "markdown",
   "metadata": {},
   "source": [
    "Si queremos seleccionar una columna por su nombre, utilizamos:\n",
    "\n",
    "```\n",
    "dataframe['nombre_columna']\n",
    "```"
   ]
  },
  {
   "cell_type": "code",
   "execution_count": null,
   "metadata": {},
   "outputs": [],
   "source": [
    "nombres = datos[\"Name\"] #nos quedamos con la columna 'Name'"
   ]
  },
  {
   "cell_type": "code",
   "execution_count": null,
   "metadata": {},
   "outputs": [],
   "source": [
    "nombres.head()"
   ]
  },
  {
   "cell_type": "markdown",
   "metadata": {},
   "source": [
    "Para seleccionar varias columnas, debemos utilizar doble corchete [[...]] (lista de columnas):"
   ]
  },
  {
   "cell_type": "code",
   "execution_count": null,
   "metadata": {},
   "outputs": [],
   "source": [
    "# EJERCICIO: Selecciona las columnas \"Name\" y \"Survived\", guardándolas en un dataframe llamado \"df\"\n",
    "\n"
   ]
  },
  {
   "cell_type": "markdown",
   "metadata": {},
   "source": [
    "Para seleccionar filas y columnas por posición, utilizamos *iloc*:\n",
    "\n",
    "```\n",
    "datos.iloc(filas, columnas)\n",
    "```"
   ]
  },
  {
   "cell_type": "code",
   "execution_count": null,
   "metadata": {},
   "outputs": [],
   "source": [
    "datos.iloc[:,1] #seleccionamos la columna 1. Si queremos todas las filas, ponemos ':'"
   ]
  },
  {
   "cell_type": "code",
   "execution_count": null,
   "metadata": {},
   "outputs": [],
   "source": [
    "datos.iloc[:5,[1,2]] #seleccionamos la columna 1 y 2 de las 5 primeras filas"
   ]
  },
  {
   "cell_type": "markdown",
   "metadata": {},
   "source": [
    "## 3. Exploración de las columnas en profundidad"
   ]
  },
  {
   "cell_type": "markdown",
   "metadata": {},
   "source": [
    "### 3.1. Obtener valores únicos de una variable"
   ]
  },
  {
   "cell_type": "markdown",
   "metadata": {},
   "source": [
    "Para obtener todos los valores distintos que toma una variable, utilizamos *unique()*, que devuelve un array con todos los valores diferentes que toma dicha columna:"
   ]
  },
  {
   "cell_type": "code",
   "execution_count": null,
   "metadata": {},
   "outputs": [],
   "source": [
    "datos['Survived'].unique() #la columna 'Survived' contiene los valores 0 y 1"
   ]
  },
  {
   "cell_type": "markdown",
   "metadata": {},
   "source": [
    "Si queremos ver cuántos valores diferentes toma una variable, calculamos la longitud del array anterior:"
   ]
  },
  {
   "cell_type": "code",
   "execution_count": null,
   "metadata": {},
   "outputs": [],
   "source": [
    "len(datos['Survived'].unique()) #la columna 'Survived' contiene dos categorías"
   ]
  },
  {
   "cell_type": "markdown",
   "metadata": {},
   "source": [
    "### 3.2. Obtener tabla de frecuencias"
   ]
  },
  {
   "cell_type": "markdown",
   "metadata": {},
   "source": [
    "Para obtener la tabla de frecuencias de una columna utilizamos la función *value_counts()*:"
   ]
  },
  {
   "cell_type": "code",
   "execution_count": null,
   "metadata": {},
   "outputs": [],
   "source": [
    "datos['Survived'].value_counts() #tenemos 342 observaciones de pasajeros que sobrevivieron (Survived=1)"
   ]
  },
  {
   "cell_type": "markdown",
   "metadata": {},
   "source": [
    "Para ver estas frecuencias en porcentajes, dividimos la tabla de frecuencias entre el número total de observaciones:"
   ]
  },
  {
   "cell_type": "code",
   "execution_count": null,
   "metadata": {},
   "outputs": [],
   "source": [
    "datos['Survived'].value_counts()/len(datos)*100 "
   ]
  },
  {
   "cell_type": "markdown",
   "metadata": {},
   "source": [
    "## 4. Escritura de datos en un fichero\n",
    "\n",
    "Al igual que leer, desde Python también podemos escribir los datos de un _dataframe_ en un fichero:\n",
    "\n",
    "```\n",
    "dataframe.to_csv(\"filename.csv\")\n",
    "```"
   ]
  },
  {
   "cell_type": "code",
   "execution_count": null,
   "metadata": {},
   "outputs": [],
   "source": [
    "#EJERCICIO: Guarda un fichero que contenga solamente las columnas 'Name' y 'Survived' del dataframe \"datos\"\n",
    "# El fichero debe tener el nombre datos2.csv\n"
   ]
  }
 ],
 "metadata": {
  "kernelspec": {
   "display_name": "Python 3",
   "language": "python",
   "name": "python3"
  },
  "language_info": {
   "codemirror_mode": {
    "name": "ipython",
    "version": 3
   },
   "file_extension": ".py",
   "mimetype": "text/x-python",
   "name": "python",
   "nbconvert_exporter": "python",
   "pygments_lexer": "ipython3",
   "version": "3.7.3"
  }
 },
 "nbformat": 4,
 "nbformat_minor": 2
}
