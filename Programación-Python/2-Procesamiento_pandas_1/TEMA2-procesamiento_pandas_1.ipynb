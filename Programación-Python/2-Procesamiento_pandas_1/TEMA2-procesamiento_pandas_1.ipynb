{
 "cells": [
  {
   "cell_type": "markdown",
   "metadata": {},
   "source": [
    "# Tema 5.1: Procesamiento de datos simple"
   ]
  },
  {
   "cell_type": "code",
   "execution_count": null,
   "metadata": {},
   "outputs": [],
   "source": [
    "#EJERCICIO: Importa el dataset BostonHousing.csv (en un dataframe de pandas llamado datos) y muestra las primeras filas\n",
    "\n"
   ]
  },
  {
   "cell_type": "markdown",
   "metadata": {},
   "source": [
    "## 1. Añadir o eliminar columnas de un dataframe"
   ]
  },
  {
   "cell_type": "markdown",
   "metadata": {},
   "source": [
    "- **Crear nuevas columnas**"
   ]
  },
  {
   "cell_type": "markdown",
   "metadata": {},
   "source": [
    "Para añadir una nueva columna, directamente hacemos:\n",
    "\n",
    "```dataframe['nombre_columna'] = ...```\n",
    "\n",
    "Esta nueva columna se añadirá al final del dataframe."
   ]
  },
  {
   "cell_type": "code",
   "execution_count": null,
   "metadata": {},
   "outputs": [],
   "source": [
    "#EJEMPLO: Creamos una nueva columna en datos2 que sea la columna 'age'- 2\n",
    "\n",
    "datos['age_modified']= datos['age'] - 2\n",
    "datos.head()"
   ]
  },
  {
   "cell_type": "markdown",
   "metadata": {},
   "source": [
    "Si quisiéramos realizar la transformación sobre la columna original (no crear una nueva):\n",
    "\n",
    "```datos['age'] = datos['age'] - 2```"
   ]
  },
  {
   "cell_type": "markdown",
   "metadata": {},
   "source": [
    "- **Eliminar columnas**"
   ]
  },
  {
   "cell_type": "markdown",
   "metadata": {},
   "source": [
    "Para eliminar columnas en Python, utilizamos la función *drop*:\n",
    "\n",
    "```dataframe = dataframe.drop('nombre_columna', axis=1)```\n",
    "\n",
    "El axis = 1 se especifica para indicar que estamos eliminando una columna: ponemos axis = 0 si queremos eliminar una fila.\n",
    "\n",
    "Dentro de la función drop se pueden indicar tantas columnas como se quieran eliminar, en forma de lista: \n",
    "\n",
    "```dataframe = dataframe.drop(['columna1', 'columna2'], axis=1)```\n"
   ]
  },
  {
   "cell_type": "code",
   "execution_count": null,
   "metadata": {},
   "outputs": [],
   "source": [
    "#EJERCICIO: Crea un nuevo dataframe, datos2, que sea igual que datos pero eliminando las columnas 'chas' y 'zn'\n",
    "\n"
   ]
  },
  {
   "cell_type": "markdown",
   "metadata": {},
   "source": [
    "## 2. Ordenar registros de un dataframe"
   ]
  },
  {
   "cell_type": "markdown",
   "metadata": {},
   "source": [
    "Si queremos ordenar las filas de un dataframe en base a una columna, utilizamos la función *sort_values*:\n",
    "\n",
    "```dataframe = dataframe.sort_values(by = 'nombre_columna', ascending=False)```\n",
    "\n",
    "De esta forma, los registros se ordenarían de mayor a menor. Si queremos que se ordenen de menor a mayor, no es necesario especificar el parámetro *ascending* (por defecto, toma el valor True)."
   ]
  },
  {
   "cell_type": "code",
   "execution_count": null,
   "metadata": {},
   "outputs": [],
   "source": [
    "#EJERCICIO: Ordena el último dataframe creado (datos2) en base a la columna 'crim', de mayor a menor\n"
   ]
  },
  {
   "cell_type": "markdown",
   "metadata": {},
   "source": [
    "## 3. Renombrar columnas de un dataframe"
   ]
  },
  {
   "cell_type": "markdown",
   "metadata": {},
   "source": [
    "Para renombrar columnas utilizamos la función *rename*:\n",
    "\n",
    "```dataframe.rename(columns={'nombre_col1':'nombre_nuevo_col1', 'nombre_col2':'nombre_nuevo_col2',...}, inplace=True)```"
   ]
  },
  {
   "cell_type": "code",
   "execution_count": null,
   "metadata": {},
   "outputs": [],
   "source": [
    "#EJERCICIO: Renombra las columnas del dataframe datos2\n",
    "    # crim -> criminalidad\n",
    "    # medv -> precio\n",
    "\n",
    "datos2.rename(columns={'crim':'criminalidad', 'medv':'precio'},inplace=True) \n",
    "datos2.head()"
   ]
  },
  {
   "cell_type": "markdown",
   "metadata": {},
   "source": [
    "## 4. Eliminar duplicados"
   ]
  },
  {
   "cell_type": "markdown",
   "metadata": {},
   "source": [
    "- **Comprobar valores duplicados**"
   ]
  },
  {
   "cell_type": "markdown",
   "metadata": {},
   "source": [
    "Para comprobar si un dataframe contiene filas duplicadas, podemos usar la función *duplicated*:\n",
    "\n",
    "```dataframe.duplicated().sum()```\n"
   ]
  },
  {
   "cell_type": "markdown",
   "metadata": {},
   "source": [
    "Si queremos ver si se repiten valores en una columna determinada, rellenamos el argumento *subset*:\n",
    "\n",
    "```dataframe = dataframe.duplicated(subset=['nombre_columna']).sum()```"
   ]
  },
  {
   "cell_type": "markdown",
   "metadata": {},
   "source": [
    "- **Eliminar filas con duplicados**"
   ]
  },
  {
   "cell_type": "markdown",
   "metadata": {},
   "source": [
    "Para eliminar filas con valores duplicados (en una o varias columnas), utilizamos la función *drop_duplicates*:\n",
    "\n",
    "```dataframe.drop_duplicates(subset=['nombre_columna'])```"
   ]
  },
  {
   "cell_type": "code",
   "execution_count": null,
   "metadata": {},
   "outputs": [],
   "source": [
    "#EJERCICIO: Comprueba si hay valores repetidos en la columna 'age' del dataframe datos2. \n",
    "#En caso de que los haya, elimina dichos registros del dataframe.\n",
    "#Comprueba que en el nuevo dataframe ya no hay duplicados\n",
    "\n",
    "datos2.duplicated(subset=['age']).sum() "
   ]
  },
  {
   "cell_type": "code",
   "execution_count": null,
   "metadata": {},
   "outputs": [],
   "source": [
    "datos2=datos2.drop_duplicates(subset=['age'])"
   ]
  },
  {
   "cell_type": "code",
   "execution_count": null,
   "metadata": {},
   "outputs": [],
   "source": [
    "datos2.duplicated(subset=['age']).sum() "
   ]
  },
  {
   "cell_type": "markdown",
   "metadata": {},
   "source": [
    "## 5. Modificar tipos de datos"
   ]
  },
  {
   "cell_type": "markdown",
   "metadata": {},
   "source": [
    "Para ver los tipos de datos que tienen las columnas de un dataframe, ya vimos la función *dtypes*:"
   ]
  },
  {
   "cell_type": "code",
   "execution_count": null,
   "metadata": {},
   "outputs": [],
   "source": [
    "datos2.dtypes"
   ]
  },
  {
   "cell_type": "markdown",
   "metadata": {},
   "source": [
    "En Python, podemos quedarnos las columnas de un tipo determinado con la función *select_dtypes*. Por ejemplo:\n",
    "\n",
    "```dataframe_numeric = dataframe.select_dtypes(include=[\"float\", \"integer\"])```"
   ]
  },
  {
   "cell_type": "code",
   "execution_count": null,
   "metadata": {},
   "outputs": [],
   "source": [
    "#Ejemplo: seleccionamos las columnas de tipo integer de datos5 y las guardamos en un nuevo dataframe (datos_int)\n",
    "\n",
    "datos_int=datos5.select_dtypes(include=[\"int\"]) \n",
    "datos_int.columns #comprobamos qué columnas tiene este nuevo dataframe: solo las de tipo integer"
   ]
  },
  {
   "cell_type": "markdown",
   "metadata": {},
   "source": [
    "Si queremos transformar una columna a otro tipo, podemos utilizar la función *astype*. Por ejemplo:\n",
    "\n",
    "```dataframe['nombre_columna']= dataframe['nombre_columna'].astype(int)``` "
   ]
  },
  {
   "cell_type": "code",
   "execution_count": null,
   "metadata": {},
   "outputs": [],
   "source": [
    "#EJERCICIO: Transforma las columnas de tipo integer del dataframe datos2 a tipo float\n",
    "#Comprueba que se han transformado correctamente\n",
    "\n",
    "#Forma 1: transformamos de una en una\n",
    "\n",
    "datos2['rad'] = datos2['rad'].astype(float)\n",
    "datos2['tax'] = datos2['tax'].astype(float)"
   ]
  },
  {
   "cell_type": "code",
   "execution_count": null,
   "metadata": {},
   "outputs": [],
   "source": [
    "datos2.dtypes"
   ]
  },
  {
   "cell_type": "code",
   "execution_count": null,
   "metadata": {},
   "outputs": [],
   "source": [
    "#Forma 2: transformamos todas las columnas integer automáticamente:\n",
    "\n",
    "columnas_int=list(datos2.select_dtypes(include=[\"int\"]).columns)"
   ]
  },
  {
   "cell_type": "code",
   "execution_count": null,
   "metadata": {},
   "outputs": [],
   "source": [
    "for col in columnas_int: #recorre las columnas que hemos seleccionado y las transforma a float\n",
    "\n",
    "    datos2[col]=datos2[col].astype(float)"
   ]
  },
  {
   "cell_type": "code",
   "execution_count": null,
   "metadata": {},
   "outputs": [],
   "source": [
    "datos2.dtypes"
   ]
  },
  {
   "cell_type": "markdown",
   "metadata": {},
   "source": [
    "## 6. Filtros"
   ]
  },
  {
   "cell_type": "markdown",
   "metadata": {},
   "source": [
    "Los filtros consisten en quedarnos solamente con aquellas filas que cumplan una determinada condición en alguna/s de sus columnas. Por ejemplo, queremos quedarnos con las filas en las cuales la columna 1 toma un valor determinado:\n",
    "\n",
    "```dataframe_filtered = dataframe[dataframe['columna1'] == valor]```\n",
    "\n",
    "\n",
    "Si queremos aplicar filtros sobre varias columnas, utilizamos '&' (si queremos que se cumplan todas las condiciones) o '|' (si queremos que se cumpla alguna de las condiciones). Por ejemplo:\n",
    "\n",
    "\n",
    "```dataframe_filtered = dataframe[(dataframe['columna1'] == valor1) & (dataframe['columna2'] == valor2)]```"
   ]
  },
  {
   "cell_type": "code",
   "execution_count": null,
   "metadata": {},
   "outputs": [],
   "source": [
    "#EJERCICIO: Quédate con aquellos registros del dataframe original (datos) cuyo valor en 'crim' sea superior a 70 \n",
    "#¿Cuántos registros lo cumplen?\n",
    "\n",
    "data_filtered1=datos[datos['crim']>=70]\n",
    "data_filtered1.shape[0]"
   ]
  },
  {
   "cell_type": "code",
   "execution_count": null,
   "metadata": {},
   "outputs": [],
   "source": [
    "data_filtered1"
   ]
  },
  {
   "cell_type": "code",
   "execution_count": null,
   "metadata": {},
   "outputs": [],
   "source": [
    "#EJERCICIO: Quédate con aquellos registros del dataframe original (datos) que cumplan las siguientes condiciones:\n",
    "\n",
    "# Columna 'age' superior o igual a 50\n",
    "# Columna 'indus' inferior a 2\n",
    "# Columna 'rad' superior a 1\n",
    "\n",
    "data_filtered2=datos[(datos['age']>=50)&(datos['indus']<2)&(datos['rad']>1)]\n",
    "data_filtered2.shape[0]"
   ]
  },
  {
   "cell_type": "code",
   "execution_count": null,
   "metadata": {},
   "outputs": [],
   "source": [
    "#EJERCICIO: Quédate con aquellos registros del dataframe original (datos) cuyo valor \n",
    "# en la columna age sea inferior a 40 ó superior a 70\n",
    "\n",
    "data_filtered3=datos[(datos['age']<40) | (datos['age']>70)] \n",
    "data_filtered3.shape[0]"
   ]
  },
  {
   "cell_type": "markdown",
   "metadata": {},
   "source": [
    "## 7. Cálculo de agregados"
   ]
  },
  {
   "cell_type": "markdown",
   "metadata": {},
   "source": [
    "- **Agregados de una columna**"
   ]
  },
  {
   "cell_type": "markdown",
   "metadata": {},
   "source": [
    "```dataframe['nombre_columna'].function()```"
   ]
  },
  {
   "cell_type": "code",
   "execution_count": null,
   "metadata": {},
   "outputs": [],
   "source": [
    "datos[\"age\"].quantile(0.25)"
   ]
  },
  {
   "cell_type": "code",
   "execution_count": null,
   "metadata": {},
   "outputs": [],
   "source": [
    "datos[\"age\"].quantile(0.75)"
   ]
  },
  {
   "cell_type": "code",
   "execution_count": null,
   "metadata": {},
   "outputs": [],
   "source": [
    "datos[\"age\"].max()"
   ]
  },
  {
   "cell_type": "code",
   "execution_count": null,
   "metadata": {},
   "outputs": [],
   "source": [
    "datos[\"age\"].mean()"
   ]
  },
  {
   "cell_type": "code",
   "execution_count": null,
   "metadata": {},
   "outputs": [],
   "source": [
    "datos[\"age\"].min()"
   ]
  },
  {
   "cell_type": "markdown",
   "metadata": {},
   "source": [
    "- **Agregados de varias columnas a la vez**"
   ]
  },
  {
   "cell_type": "markdown",
   "metadata": {},
   "source": [
    "```dataframe[['columna1', 'columna2', ...]].function()```"
   ]
  },
  {
   "cell_type": "code",
   "execution_count": null,
   "metadata": {},
   "outputs": [],
   "source": [
    "datos[[\"age\", \"crim\", 'nox']].max() "
   ]
  },
  {
   "cell_type": "markdown",
   "metadata": {},
   "source": [
    "- **Agregados con agrupaciones: *groupby***"
   ]
  },
  {
   "cell_type": "markdown",
   "metadata": {},
   "source": [
    "Si queremos hacer cálculos agrupando por los valores que toma una columna (o varias), usamos *groupby* y *agg*:\n",
    "\n",
    "```dataframe.groupby('columna1').agg({'columna2':'mean', 'columna3 : 'max', ...}```"
   ]
  },
  {
   "cell_type": "code",
   "execution_count": null,
   "metadata": {},
   "outputs": [],
   "source": [
    "datos.groupby('rad').agg({'age':'mean'}) #agrupamos por 'rad' y sacamos la media de 'age' para cada grupo de'rad'"
   ]
  },
  {
   "cell_type": "code",
   "execution_count": null,
   "metadata": {},
   "outputs": [],
   "source": [
    "datos.groupby('rad').agg({'age':'max', 'ptratio': 'mean'}) #se pueden hacer agregados por varias columnas a la vez (max de Fare y media de Age agrupando por sexo)"
   ]
  }
 ],
 "metadata": {
  "kernelspec": {
   "display_name": "Python 3",
   "language": "python",
   "name": "python3"
  },
  "language_info": {
   "codemirror_mode": {
    "name": "ipython",
    "version": 3
   },
   "file_extension": ".py",
   "mimetype": "text/x-python",
   "name": "python",
   "nbconvert_exporter": "python",
   "pygments_lexer": "ipython3",
   "version": "3.7.3"
  }
 },
 "nbformat": 4,
 "nbformat_minor": 2
}
